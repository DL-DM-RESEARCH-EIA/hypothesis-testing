{
 "cells": [
  {
   "cell_type": "code",
   "execution_count": 1,
   "id": "d6f3a49f",
   "metadata": {},
   "outputs": [],
   "source": [
    "from matplotlib import pyplot as plt\n",
    "#%pylab inline\n",
    "import pandas as pd\n",
    "import seaborn as sns\n",
    "sns.set()"
   ]
  },
  {
   "cell_type": "code",
   "execution_count": 2,
   "id": "5e4aa5c0",
   "metadata": {},
   "outputs": [],
   "source": [
    "# cross --> cross-section (pb)\n",
    "# delta-xs --> cross-section uncertainty (pb)\n",
    "# mzp --> z prime mass (GeV)\n",
    "columns1 = ['cross','delta-xs','mzp']\n",
    "columns2 = ['cross','delta-xs']\n",
    "signal_1 = pd.read_csv(\"data/data_signal_cln.txt\", names=columns1) # Using kL=1.0\n",
    "signal_2 = pd.read_csv(\"data/data_signal_cln_kl_2.txt\", names=columns1) # Using kL=2.0 \n",
    "bkg = pd.read_csv(\"data/data_background_cln.txt\", names=columns2)"
   ]
  },
  {
   "cell_type": "code",
   "execution_count": 3,
   "id": "6bdeb6ff",
   "metadata": {},
   "outputs": [
    {
     "data": {
      "text/html": [
       "<div>\n",
       "<style scoped>\n",
       "    .dataframe tbody tr th:only-of-type {\n",
       "        vertical-align: middle;\n",
       "    }\n",
       "\n",
       "    .dataframe tbody tr th {\n",
       "        vertical-align: top;\n",
       "    }\n",
       "\n",
       "    .dataframe thead th {\n",
       "        text-align: right;\n",
       "    }\n",
       "</style>\n",
       "<table border=\"1\" class=\"dataframe\">\n",
       "  <thead>\n",
       "    <tr style=\"text-align: right;\">\n",
       "      <th></th>\n",
       "      <th>cross</th>\n",
       "      <th>delta-xs</th>\n",
       "      <th>mzp</th>\n",
       "    </tr>\n",
       "  </thead>\n",
       "  <tbody>\n",
       "    <tr>\n",
       "      <th>0</th>\n",
       "      <td>4.9240</td>\n",
       "      <td>0.013910</td>\n",
       "      <td>500</td>\n",
       "    </tr>\n",
       "    <tr>\n",
       "      <th>1</th>\n",
       "      <td>1.8130</td>\n",
       "      <td>0.005895</td>\n",
       "      <td>750</td>\n",
       "    </tr>\n",
       "    <tr>\n",
       "      <th>2</th>\n",
       "      <td>0.6738</td>\n",
       "      <td>0.001865</td>\n",
       "      <td>1000</td>\n",
       "    </tr>\n",
       "    <tr>\n",
       "      <th>3</th>\n",
       "      <td>0.2815</td>\n",
       "      <td>0.000706</td>\n",
       "      <td>1250</td>\n",
       "    </tr>\n",
       "    <tr>\n",
       "      <th>4</th>\n",
       "      <td>0.1290</td>\n",
       "      <td>0.000417</td>\n",
       "      <td>1500</td>\n",
       "    </tr>\n",
       "  </tbody>\n",
       "</table>\n",
       "</div>"
      ],
      "text/plain": [
       "    cross  delta-xs   mzp\n",
       "0  4.9240  0.013910   500\n",
       "1  1.8130  0.005895   750\n",
       "2  0.6738  0.001865  1000\n",
       "3  0.2815  0.000706  1250\n",
       "4  0.1290  0.000417  1500"
      ]
     },
     "execution_count": 3,
     "metadata": {},
     "output_type": "execute_result"
    }
   ],
   "source": [
    "signal_2"
   ]
  },
  {
   "cell_type": "code",
   "execution_count": 4,
   "id": "7aaae23b",
   "metadata": {},
   "outputs": [
    {
     "data": {
      "text/plain": [
       "Text(0.5, 0, '$m_{Z_p} [GeV]$')"
      ]
     },
     "execution_count": 4,
     "metadata": {},
     "output_type": "execute_result"
    },
    {
     "data": {
      "image/png": "[encoded data removed]",
      "text/plain": [
       "<Figure size 640x480 with 1 Axes>"
      ]
     },
     "metadata": {},
     "output_type": "display_data"
    }
   ],
   "source": [
    "# same plotting code as above! \n",
    "plt.plot(signal_1.mzp, signal_1.cross,'b*') # kL coupling = 1.0\n",
    "plt.plot(signal_2.mzp, signal_2.cross,'r*') # kL coupling = 2.0\n",
    "plt.legend('signal', loc='upper right');\n",
    "plt.ylabel(r'$\\sigma(pb)$',size=25)\n",
    "plt.xlabel(r'$m_{Z_p} [GeV]$',size=25)"
   ]
  },
  {
   "cell_type": "code",
   "execution_count": 5,
   "id": "7ce6c9dc",
   "metadata": {},
   "outputs": [
    {
     "data": {
      "text/html": [
       "<div>\n",
       "<style scoped>\n",
       "    .dataframe tbody tr th:only-of-type {\n",
       "        vertical-align: middle;\n",
       "    }\n",
       "\n",
       "    .dataframe tbody tr th {\n",
       "        vertical-align: top;\n",
       "    }\n",
       "\n",
       "    .dataframe thead th {\n",
       "        text-align: right;\n",
       "    }\n",
       "</style>\n",
       "<table border=\"1\" class=\"dataframe\">\n",
       "  <thead>\n",
       "    <tr style=\"text-align: right;\">\n",
       "      <th></th>\n",
       "      <th>cross</th>\n",
       "      <th>delta-xs</th>\n",
       "    </tr>\n",
       "  </thead>\n",
       "  <tbody>\n",
       "    <tr>\n",
       "      <th>0</th>\n",
       "      <td>68.37</td>\n",
       "      <td>0.1585</td>\n",
       "    </tr>\n",
       "  </tbody>\n",
       "</table>\n",
       "</div>"
      ],
      "text/plain": [
       "   cross  delta-xs\n",
       "0  68.37    0.1585"
      ]
     },
     "execution_count": 5,
     "metadata": {},
     "output_type": "execute_result"
    }
   ],
   "source": [
    "bkg"
   ]
  },
  {
   "cell_type": "markdown",
   "id": "09b69ab3",
   "metadata": {},
   "source": [
    "### Cross-section ratio "
   ]
  },
  {
   "cell_type": "code",
   "execution_count": 6,
   "id": "91b4fe60",
   "metadata": {},
   "outputs": [
    {
     "name": "stdout",
     "output_type": "stream",
     "text": [
      "mzp = 500 cross_section_ratio= 3.6393200295639323\n",
      "mzp = 750 cross_section_ratio= 3.7466418681545774\n",
      "mzp = 1000 cross_section_ratio= 3.8349459305634603\n",
      "mzp = 1250 cross_section_ratio= 3.9381645215444876\n",
      "mzp = 1500 cross_section_ratio= 4.028732042473454\n"
     ]
    }
   ],
   "source": [
    "for i in range(signal_1.shape[0]):\n",
    "    print (\"mzp =\",signal_1.mzp[i],\"cross_section_ratio=\", signal_2.cross[i]/signal_1.cross[i])"
   ]
  }
 ],
 "metadata": {
  "kernelspec": {
   "display_name": "envGNNSense",
   "language": "python",
   "name": "python3"
  },
  "language_info": {
   "codemirror_mode": {
    "name": "ipython",
    "version": 3
   },
   "file_extension": ".py",
   "mimetype": "text/x-python",
   "name": "python",
   "nbconvert_exporter": "python",
   "pygments_lexer": "ipython3",
   "version": "3.9.15"
  },
  "vscode": {
   "interpreter": {
    "hash": "8f17fc879e52475c23ed01899fb4aa23298f8d2090f84a26d845ec8fea2c99fa"
   }
  }
 },
 "nbformat": 4,
 "nbformat_minor": 5
}
